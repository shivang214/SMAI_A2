{
  "cells": [
    {
      "cell_type": "markdown",
      "metadata": {
        "id": "lvpf93Fv9Hlk"
      },
      "source": [
        "# SMAI Assignment - 2\n",
        "\n",
        "## Question 4: Multi-layer Perceptrons\n",
        "\n",
        "### Digit Classification\n",
        "\n",
        "In this question, you will perform digit classification using MLP. You can use the MLPClassifier from sklearn. Train and two test sets have been provided [here](https://drive.google.com/drive/folders/1OUVrOMp2jSSBDJSqvEyXDFTrhiyZnqit?usp=sharing). Report the accuracy and any other interesting observations."
      ]
    },
    {
      "cell_type": "code",
      "source": [
        "from google.colab import drive\n",
        "drive.mount('/content/drive')"
      ],
      "metadata": {
        "id": "hMHlgj8t89kV",
        "outputId": "5df831b5-a200-423e-ca30-7e3aa2ba4a87",
        "colab": {
          "base_uri": "https://localhost:8080/"
        }
      },
      "execution_count": 10,
      "outputs": [
        {
          "output_type": "stream",
          "name": "stdout",
          "text": [
            "Drive already mounted at /content/drive; to attempt to forcibly remount, call drive.mount(\"/content/drive\", force_remount=True).\n"
          ]
        }
      ]
    },
    {
      "cell_type": "code",
      "execution_count": 13,
      "metadata": {
        "id": "G-MpagLl-YJp"
      },
      "outputs": [],
      "source": [
        "import numpy as np\n",
        "import h5py"
      ]
    },
    {
      "cell_type": "code",
      "execution_count": 14,
      "metadata": {
        "id": "cHAbz92352gz"
      },
      "outputs": [],
      "source": [
        "filename = \"training_3digits.hdf5\"\n",
        "train = h5py.File('/content/drive/MyDrive/training_3digits.hdf5','r')\n",
        "train_images = np.array(train['images'])\n",
        "train_digits = np.array(train['digits'])\n",
        "train.close()"
      ]
    },
    {
      "cell_type": "code",
      "execution_count": 15,
      "metadata": {
        "id": "5MLBdrs65woF"
      },
      "outputs": [],
      "source": [
        "filename = \"testing_3digits_part1.hdf5\"\n",
        "test1 = h5py.File('/content/drive/MyDrive/testing_3digits_part1.hdf5','r')\n",
        "test_images_1 = np.array(test1['images'])\n",
        "test_digits_1 = np.array(test1['digits'])\n",
        "test1.close()"
      ]
    },
    {
      "cell_type": "code",
      "execution_count": 16,
      "metadata": {
        "id": "w8cYRTiD-R1e"
      },
      "outputs": [],
      "source": [
        "filename = \"testing_3digits_part2.hdf5\"\n",
        "test2 = h5py.File('/content/drive/MyDrive/testing_3digits_part2.hdf5','r')\n",
        "test_images_2 = np.array(test2['images'])\n",
        "test_digits_2 = np.array(test2['digits'])\n",
        "test2.close()"
      ]
    },
    {
      "cell_type": "code",
      "source": [
        "import numpy as np\n",
        "import h5py\n",
        "from sklearn.neural_network import MLPClassifier\n",
        "from sklearn.model_selection import train_test_split\n",
        "from sklearn.metrics import accuracy_score\n",
        "\n",
        "\n",
        "filename_train = \"training_3digits.hdf5\"\n",
        "train = h5py.File('/content/drive/MyDrive/training_3digits.hdf5', 'r')\n",
        "train_images = np.array(train['images'])\n",
        "train_digits = np.array(train['digits'])\n",
        "train.close()\n",
        "\n",
        "\n",
        "train_images_flat = train_images.reshape((train_images.shape[0], -1)) / 255.0\n",
        "\n",
        "\n",
        "X_train, X_val, y_train, y_val = train_test_split(\n",
        "    train_images_flat, train_digits, test_size=0.2, random_state=42\n",
        ")\n",
        "\n",
        "\n",
        "mlp = MLPClassifier(hidden_layer_sizes=(100,), max_iter=500, random_state=42)\n",
        "\n",
        "\n",
        "mlp.fit(X_train, y_train)\n",
        "\n",
        "\n",
        "val_predictions = mlp.predict(X_val)\n",
        "\n",
        "\n",
        "accuracy_val = accuracy_score(y_val, val_predictions)\n",
        "print(f'Accuracy on the validation set: {accuracy_val}')\n",
        "\n",
        "\n",
        "filename_test1 = \"testing_3digits_part1.hdf5\"\n",
        "test1 = h5py.File('/content/drive/MyDrive/testing_3digits_part1.hdf5', 'r')\n",
        "test_images_1 = np.array(test1['images'])\n",
        "test_digits_1 = np.array(test1['digits'])\n",
        "test1.close()\n",
        "\n",
        "\n",
        "test_images_flat_1 = test_images_1.reshape((test_images_1.shape[0], -1)) / 255.0\n",
        "\n",
        "\n",
        "test_predictions_1 = mlp.predict(test_images_flat_1)\n",
        "\n",
        "\n",
        "accuracy_test_1 = accuracy_score(test_digits_1, test_predictions_1)\n",
        "print(f'Accuracy on test set part 1: {accuracy_test_1}')\n",
        "\n",
        "\n",
        "filename_test2 = \"testing_3digits_part2.hdf5\"\n",
        "test2 = h5py.File('/content/drive/MyDrive/testing_3digits_part2.hdf5', 'r')\n",
        "test_images_2 = np.array(test2['images'])\n",
        "test_digits_2 = np.array(test2['digits'])\n",
        "test2.close()\n",
        "\n",
        "\n",
        "test_images_flat_2 = test_images_2.reshape((test_images_2.shape[0], -1)) / 255.0\n",
        "\n",
        "\n",
        "test_predictions_2 = mlp.predict(test_images_flat_2)\n",
        "\n",
        "\n",
        "accuracy_test_2 = accuracy_score(test_digits_2, test_predictions_2)\n",
        "print(f'Accuracy on test set part 2: {accuracy_test_2}')\n"
      ],
      "metadata": {
        "colab": {
          "base_uri": "https://localhost:8080/"
        },
        "id": "_XpXJzoYA0tV",
        "outputId": "7507ec21-beea-4401-e5a2-02c64c60085b"
      },
      "execution_count": 19,
      "outputs": [
        {
          "output_type": "stream",
          "name": "stdout",
          "text": [
            "Accuracy on the validation set: 1.0\n",
            "Accuracy on test set part 1: 1.0\n",
            "Accuracy on test set part 2: 0.0\n"
          ]
        }
      ]
    },
    {
      "cell_type": "markdown",
      "source": [
        "**OBSERVATIONS**\n",
        "\n",
        "1. In this we can observe that we are getting the **accuracy of 100%** for the test set part1 which indicates that the images of the training data set is the same or of similar kind which are present in test set part1 .\n",
        "\n",
        "2. For the test set part2 we are getting the **accuracy 0%** which depicts that the dataset of the images are different from the dataset which we have trained in the training dataset.This can be interpreted as there could be a significant difference between the distribution of data in the training sets and test set part and  could include variations in image quality, background, or other factors not present in the training set."
      ],
      "metadata": {
        "id": "LeI96J7Sf53l"
      }
    },
    {
      "cell_type": "code",
      "source": [
        "import matplotlib.pyplot as plt\n",
        "\n",
        "\n",
        "plt.imshow(train_images[0], cmap='gray')\n",
        "plt.title('First Image in Training Set')\n",
        "plt.show()\n",
        "\n",
        "\n",
        "plt.imshow(test_images_1[0], cmap='gray')\n",
        "plt.title('First Image in Test Set Part 1')\n",
        "plt.show()\n",
        "\n",
        "\n",
        "plt.imshow(test_images_2[0], cmap='gray')\n",
        "plt.title('First Image in Test Set Part 2')\n",
        "plt.show()\n"
      ],
      "metadata": {
        "colab": {
          "base_uri": "https://localhost:8080/",
          "height": 1000
        },
        "id": "sE0k7jNLh4XG",
        "outputId": "99ca7e0b-40b7-4f0b-b726-de700dd399fb"
      },
      "execution_count": 20,
      "outputs": [
        {
          "output_type": "display_data",
          "data": {
            "text/plain": [
              "<Figure size 640x480 with 1 Axes>"
            ],
            "image/png": "[encoded data removed]"
          },
          "metadata": {}
        },
        {
          "output_type": "display_data",
          "data": {
            "text/plain": [
              "<Figure size 640x480 with 1 Axes>"
            ],
            "image/png": "[encoded data removed]"
          },
          "metadata": {}
        },
        {
          "output_type": "display_data",
          "data": {
            "text/plain": [
              "<Figure size 640x480 with 1 Axes>"
            ],
            "image/png": "[encoded data removed]"
          },
          "metadata": {}
        }
      ]
    },
    {
      "cell_type": "markdown",
      "source": [
        "Thus we can see from printing the first images of all the datasets that images in the training and test set part1 is similar to each other while the image for test part2 is different."
      ],
      "metadata": {
        "id": "Oxe2vHtMiDK_"
      }
    }
  ],
  "metadata": {
    "colab": {
      "provenance": []
    },
    "kernelspec": {
      "display_name": "Python 3",
      "name": "python3"
    },
    "language_info": {
      "name": "python"
    }
  },
  "nbformat": 4,
  "nbformat_minor": 0
}